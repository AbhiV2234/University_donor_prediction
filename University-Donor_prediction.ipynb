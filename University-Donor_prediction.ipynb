{
  "nbformat": 4,
  "nbformat_minor": 0,
  "metadata": {
    "colab": {
      "provenance": []
    },
    "kernelspec": {
      "name": "python3",
      "display_name": "Python 3"
    },
    "language_info": {
      "name": "python"
    }
  },
  "cells": [
    {
      "cell_type": "code",
      "execution_count": null,
      "metadata": {
        "id": "RnB-P6rDrJGN"
      },
      "outputs": [],
      "source": [
        "## Importing python Libraries\n",
        "import numpy as np\n",
        "import pandas as pd\n",
        "import matplotlib.pyplot as plt"
      ]
    },
    {
      "cell_type": "code",
      "source": [
        "##Importing CSV files into the Co-lab\n",
        "data = pd.read_csv(\"University advancement dataset.csv\")\n",
        "data.head()"
      ],
      "metadata": {
        "colab": {
          "base_uri": "https://localhost:8080/",
          "height": 444
        },
        "id": "KTGCQiZNr9lz",
        "outputId": "eed46249-8504-4e54-ee1f-d4bd0a275ed1"
      },
      "execution_count": null,
      "outputs": [
        {
          "output_type": "stream",
          "name": "stderr",
          "text": [
            "/usr/local/lib/python3.7/dist-packages/IPython/core/interactiveshell.py:3326: DtypeWarning: Columns (1,2,3,4,5,7,8,11,13) have mixed types.Specify dtype option on import or set low_memory=False.\n",
            "  exec(code_obj, self.user_global_ns, self.user_ns)\n"
          ]
        },
        {
          "output_type": "execute_result",
          "data": {
            "text/plain": [
              "   ID Number Title Preferred Language Gender Relationship Types  \\\n",
              "0   100001.0   NaN                  E      M           Graduate   \n",
              "1   100002.0   NaN                  E      M           Graduate   \n",
              "2   100003.0   NaN                  E      F           Graduate   \n",
              "3   100004.0   NaN                         M           Graduate   \n",
              "4   100005.0   NaN                  E      M           Graduate   \n",
              "\n",
              "  Faculty of Graduation  Year of Graduation Province Lifetime Giving  \\\n",
              "0   Medicine -- General              1968.0       ON        $73,600    \n",
              "1       Arts -- General              1958.0       NB         $8,035    \n",
              "2    Science -- General              1963.0       ON         $9,675    \n",
              "3  Education -- General              1960.0       BC         $4,070    \n",
              "4            Management              1955.0       QC        $13,377    \n",
              "\n",
              "   Year of Last Gift  Year of First Gift Largest Gift  \\\n",
              "0             1997.0              1978.0     $22,080    \n",
              "1             1962.0              1961.0      $1,768    \n",
              "2             1961.0              1961.0      $3,483    \n",
              "3             1990.0              1986.0      $2,768    \n",
              "4             1970.0              1957.0      $3,077    \n",
              "\n",
              "   Events Attended in Lifetime Past Traveler Y/N  \\\n",
              "0                          0.0                 N   \n",
              "1                         14.0                 N   \n",
              "2                         15.0                 N   \n",
              "3                         14.0                 N   \n",
              "4                          0.0                 N   \n",
              "\n",
              "   # of Instances of Volunteering  # of Clicks in the Past Month  \n",
              "0                             0.0                           27.0  \n",
              "1                             1.0                           19.0  \n",
              "2                             1.0                           18.0  \n",
              "3                             2.0                           10.0  \n",
              "4                             0.0                           16.0  "
            ],
            "text/html": [
              "\n",
              "  <div id=\"df-f3015b31-2a1c-4e3b-8000-4f9542764ebd\">\n",
              "    <div class=\"colab-df-container\">\n",
              "      <div>\n",
              "<style scoped>\n",
              "    .dataframe tbody tr th:only-of-type {\n",
              "        vertical-align: middle;\n",
              "    }\n",
              "\n",
              "    .dataframe tbody tr th {\n",
              "        vertical-align: top;\n",
              "    }\n",
              "\n",
              "    .dataframe thead th {\n",
              "        text-align: right;\n",
              "    }\n",
              "</style>\n",
              "<table border=\"1\" class=\"dataframe\">\n",
              "  <thead>\n",
              "    <tr style=\"text-align: right;\">\n",
              "      <th></th>\n",
              "      <th>ID Number</th>\n",
              "      <th>Title</th>\n",
              "      <th>Preferred Language</th>\n",
              "      <th>Gender</th>\n",
              "      <th>Relationship Types</th>\n",
              "      <th>Faculty of Graduation</th>\n",
              "      <th>Year of Graduation</th>\n",
              "      <th>Province</th>\n",
              "      <th>Lifetime Giving</th>\n",
              "      <th>Year of Last Gift</th>\n",
              "      <th>Year of First Gift</th>\n",
              "      <th>Largest Gift</th>\n",
              "      <th>Events Attended in Lifetime</th>\n",
              "      <th>Past Traveler Y/N</th>\n",
              "      <th># of Instances of Volunteering</th>\n",
              "      <th># of Clicks in the Past Month</th>\n",
              "    </tr>\n",
              "  </thead>\n",
              "  <tbody>\n",
              "    <tr>\n",
              "      <th>0</th>\n",
              "      <td>100001.0</td>\n",
              "      <td>NaN</td>\n",
              "      <td>E</td>\n",
              "      <td>M</td>\n",
              "      <td>Graduate</td>\n",
              "      <td>Medicine -- General</td>\n",
              "      <td>1968.0</td>\n",
              "      <td>ON</td>\n",
              "      <td>$73,600</td>\n",
              "      <td>1997.0</td>\n",
              "      <td>1978.0</td>\n",
              "      <td>$22,080</td>\n",
              "      <td>0.0</td>\n",
              "      <td>N</td>\n",
              "      <td>0.0</td>\n",
              "      <td>27.0</td>\n",
              "    </tr>\n",
              "    <tr>\n",
              "      <th>1</th>\n",
              "      <td>100002.0</td>\n",
              "      <td>NaN</td>\n",
              "      <td>E</td>\n",
              "      <td>M</td>\n",
              "      <td>Graduate</td>\n",
              "      <td>Arts -- General</td>\n",
              "      <td>1958.0</td>\n",
              "      <td>NB</td>\n",
              "      <td>$8,035</td>\n",
              "      <td>1962.0</td>\n",
              "      <td>1961.0</td>\n",
              "      <td>$1,768</td>\n",
              "      <td>14.0</td>\n",
              "      <td>N</td>\n",
              "      <td>1.0</td>\n",
              "      <td>19.0</td>\n",
              "    </tr>\n",
              "    <tr>\n",
              "      <th>2</th>\n",
              "      <td>100003.0</td>\n",
              "      <td>NaN</td>\n",
              "      <td>E</td>\n",
              "      <td>F</td>\n",
              "      <td>Graduate</td>\n",
              "      <td>Science -- General</td>\n",
              "      <td>1963.0</td>\n",
              "      <td>ON</td>\n",
              "      <td>$9,675</td>\n",
              "      <td>1961.0</td>\n",
              "      <td>1961.0</td>\n",
              "      <td>$3,483</td>\n",
              "      <td>15.0</td>\n",
              "      <td>N</td>\n",
              "      <td>1.0</td>\n",
              "      <td>18.0</td>\n",
              "    </tr>\n",
              "    <tr>\n",
              "      <th>3</th>\n",
              "      <td>100004.0</td>\n",
              "      <td>NaN</td>\n",
              "      <td></td>\n",
              "      <td>M</td>\n",
              "      <td>Graduate</td>\n",
              "      <td>Education -- General</td>\n",
              "      <td>1960.0</td>\n",
              "      <td>BC</td>\n",
              "      <td>$4,070</td>\n",
              "      <td>1990.0</td>\n",
              "      <td>1986.0</td>\n",
              "      <td>$2,768</td>\n",
              "      <td>14.0</td>\n",
              "      <td>N</td>\n",
              "      <td>2.0</td>\n",
              "      <td>10.0</td>\n",
              "    </tr>\n",
              "    <tr>\n",
              "      <th>4</th>\n",
              "      <td>100005.0</td>\n",
              "      <td>NaN</td>\n",
              "      <td>E</td>\n",
              "      <td>M</td>\n",
              "      <td>Graduate</td>\n",
              "      <td>Management</td>\n",
              "      <td>1955.0</td>\n",
              "      <td>QC</td>\n",
              "      <td>$13,377</td>\n",
              "      <td>1970.0</td>\n",
              "      <td>1957.0</td>\n",
              "      <td>$3,077</td>\n",
              "      <td>0.0</td>\n",
              "      <td>N</td>\n",
              "      <td>0.0</td>\n",
              "      <td>16.0</td>\n",
              "    </tr>\n",
              "  </tbody>\n",
              "</table>\n",
              "</div>\n",
              "      <button class=\"colab-df-convert\" onclick=\"convertToInteractive('df-f3015b31-2a1c-4e3b-8000-4f9542764ebd')\"\n",
              "              title=\"Convert this dataframe to an interactive table.\"\n",
              "              style=\"display:none;\">\n",
              "        \n",
              "  <svg xmlns=\"http://www.w3.org/2000/svg\" height=\"24px\"viewBox=\"0 0 24 24\"\n",
              "       width=\"24px\">\n",
              "    <path d=\"M0 0h24v24H0V0z\" fill=\"none\"/>\n",
              "    <path d=\"M18.56 5.44l.94 2.06.94-2.06 2.06-.94-2.06-.94-.94-2.06-.94 2.06-2.06.94zm-11 1L8.5 8.5l.94-2.06 2.06-.94-2.06-.94L8.5 2.5l-.94 2.06-2.06.94zm10 10l.94 2.06.94-2.06 2.06-.94-2.06-.94-.94-2.06-.94 2.06-2.06.94z\"/><path d=\"M17.41 7.96l-1.37-1.37c-.4-.4-.92-.59-1.43-.59-.52 0-1.04.2-1.43.59L10.3 9.45l-7.72 7.72c-.78.78-.78 2.05 0 2.83L4 21.41c.39.39.9.59 1.41.59.51 0 1.02-.2 1.41-.59l7.78-7.78 2.81-2.81c.8-.78.8-2.07 0-2.86zM5.41 20L4 18.59l7.72-7.72 1.47 1.35L5.41 20z\"/>\n",
              "  </svg>\n",
              "      </button>\n",
              "      \n",
              "  <style>\n",
              "    .colab-df-container {\n",
              "      display:flex;\n",
              "      flex-wrap:wrap;\n",
              "      gap: 12px;\n",
              "    }\n",
              "\n",
              "    .colab-df-convert {\n",
              "      background-color: #E8F0FE;\n",
              "      border: none;\n",
              "      border-radius: 50%;\n",
              "      cursor: pointer;\n",
              "      display: none;\n",
              "      fill: #1967D2;\n",
              "      height: 32px;\n",
              "      padding: 0 0 0 0;\n",
              "      width: 32px;\n",
              "    }\n",
              "\n",
              "    .colab-df-convert:hover {\n",
              "      background-color: #E2EBFA;\n",
              "      box-shadow: 0px 1px 2px rgba(60, 64, 67, 0.3), 0px 1px 3px 1px rgba(60, 64, 67, 0.15);\n",
              "      fill: #174EA6;\n",
              "    }\n",
              "\n",
              "    [theme=dark] .colab-df-convert {\n",
              "      background-color: #3B4455;\n",
              "      fill: #D2E3FC;\n",
              "    }\n",
              "\n",
              "    [theme=dark] .colab-df-convert:hover {\n",
              "      background-color: #434B5C;\n",
              "      box-shadow: 0px 1px 3px 1px rgba(0, 0, 0, 0.15);\n",
              "      filter: drop-shadow(0px 1px 2px rgba(0, 0, 0, 0.3));\n",
              "      fill: #FFFFFF;\n",
              "    }\n",
              "  </style>\n",
              "\n",
              "      <script>\n",
              "        const buttonEl =\n",
              "          document.querySelector('#df-f3015b31-2a1c-4e3b-8000-4f9542764ebd button.colab-df-convert');\n",
              "        buttonEl.style.display =\n",
              "          google.colab.kernel.accessAllowed ? 'block' : 'none';\n",
              "\n",
              "        async function convertToInteractive(key) {\n",
              "          const element = document.querySelector('#df-f3015b31-2a1c-4e3b-8000-4f9542764ebd');\n",
              "          const dataTable =\n",
              "            await google.colab.kernel.invokeFunction('convertToInteractive',\n",
              "                                                     [key], {});\n",
              "          if (!dataTable) return;\n",
              "\n",
              "          const docLinkHtml = 'Like what you see? Visit the ' +\n",
              "            '<a target=\"_blank\" href=https://colab.research.google.com/notebooks/data_table.ipynb>data table notebook</a>'\n",
              "            + ' to learn more about interactive tables.';\n",
              "          element.innerHTML = '';\n",
              "          dataTable['output_type'] = 'display_data';\n",
              "          await google.colab.output.renderOutput(dataTable, element);\n",
              "          const docLink = document.createElement('div');\n",
              "          docLink.innerHTML = docLinkHtml;\n",
              "          element.appendChild(docLink);\n",
              "        }\n",
              "      </script>\n",
              "    </div>\n",
              "  </div>\n",
              "  "
            ]
          },
          "metadata": {},
          "execution_count": 20
        }
      ]
    },
    {
      "cell_type": "code",
      "source": [
        "##creating new dataframe so that we will have raw data\n",
        "df = pd.DataFrame(data)\n",
        "df.shape"
      ],
      "metadata": {
        "colab": {
          "base_uri": "https://localhost:8080/"
        },
        "id": "RoYAy1oos6VW",
        "outputId": "330d71e4-8bd1-449d-fcdd-19e89e25c58c"
      },
      "execution_count": null,
      "outputs": [
        {
          "output_type": "execute_result",
          "data": {
            "text/plain": [
              "(998818, 16)"
            ]
          },
          "metadata": {},
          "execution_count": 22
        }
      ]
    },
    {
      "cell_type": "code",
      "source": [
        "## Data frame has any null value or not\n",
        "df.isnull().values.any()"
      ],
      "metadata": {
        "colab": {
          "base_uri": "https://localhost:8080/"
        },
        "id": "S0MxcX_0tNzW",
        "outputId": "43dae7bd-871c-4151-9446-72c966eeee83"
      },
      "execution_count": null,
      "outputs": [
        {
          "output_type": "execute_result",
          "data": {
            "text/plain": [
              "True"
            ]
          },
          "metadata": {},
          "execution_count": 24
        }
      ]
    },
    {
      "cell_type": "markdown",
      "source": [
        "Clear evidance that we have null value"
      ],
      "metadata": {
        "id": "9umVYI6HtitD"
      }
    },
    {
      "cell_type": "markdown",
      "source": [
        "The null value exist in Title, Year of Last Gift, First Gift and Largest Gift column"
      ],
      "metadata": {
        "id": "KKQKXLHz3e2B"
      }
    },
    {
      "cell_type": "code",
      "source": [
        "df3.describe()"
      ],
      "metadata": {
        "colab": {
          "base_uri": "https://localhost:8080/",
          "height": 362
        },
        "id": "7-R6au1nTds_",
        "outputId": "0bd8d0ee-049e-479a-d567-d324cbe20258"
      },
      "execution_count": null,
      "outputs": [
        {
          "output_type": "execute_result",
          "data": {
            "text/plain": [
              "           ID Number  Year of Graduation  Year of Last Gift  \\\n",
              "count   33914.000000        33914.000000                0.0   \n",
              "mean   126678.211152         1987.099310                NaN   \n",
              "std     14055.084851           21.481678                NaN   \n",
              "min    100022.000000         1939.000000                NaN   \n",
              "25%    114557.500000         1972.000000                NaN   \n",
              "50%    127522.000000         1993.000000                NaN   \n",
              "75%    138832.750000         2005.000000                NaN   \n",
              "max    150000.000000         2015.000000                NaN   \n",
              "\n",
              "       Year of First Gift  Events Attended in Lifetime  \\\n",
              "count                 0.0                 33914.000000   \n",
              "mean                  NaN                     7.521820   \n",
              "std                   NaN                     4.593024   \n",
              "min                   NaN                     0.000000   \n",
              "25%                   NaN                     4.000000   \n",
              "50%                   NaN                     8.000000   \n",
              "75%                   NaN                    12.000000   \n",
              "max                   NaN                    15.000000   \n",
              "\n",
              "       # of Instances of Volunteering  # of Clicks in the Past Month  \n",
              "count                    33914.000000                   33914.000000  \n",
              "mean                         1.284013                      11.466445  \n",
              "std                          1.160446                       6.923572  \n",
              "min                          0.000000                       0.000000  \n",
              "25%                          0.000000                       5.000000  \n",
              "50%                          1.000000                      11.000000  \n",
              "75%                          2.000000                      17.000000  \n",
              "max                          3.000000                      23.000000  "
            ],
            "text/html": [
              "\n",
              "  <div id=\"df-f31aef6d-43b9-4bb7-8fd4-f42917c378ea\">\n",
              "    <div class=\"colab-df-container\">\n",
              "      <div>\n",
              "<style scoped>\n",
              "    .dataframe tbody tr th:only-of-type {\n",
              "        vertical-align: middle;\n",
              "    }\n",
              "\n",
              "    .dataframe tbody tr th {\n",
              "        vertical-align: top;\n",
              "    }\n",
              "\n",
              "    .dataframe thead th {\n",
              "        text-align: right;\n",
              "    }\n",
              "</style>\n",
              "<table border=\"1\" class=\"dataframe\">\n",
              "  <thead>\n",
              "    <tr style=\"text-align: right;\">\n",
              "      <th></th>\n",
              "      <th>ID Number</th>\n",
              "      <th>Year of Graduation</th>\n",
              "      <th>Year of Last Gift</th>\n",
              "      <th>Year of First Gift</th>\n",
              "      <th>Events Attended in Lifetime</th>\n",
              "      <th># of Instances of Volunteering</th>\n",
              "      <th># of Clicks in the Past Month</th>\n",
              "    </tr>\n",
              "  </thead>\n",
              "  <tbody>\n",
              "    <tr>\n",
              "      <th>count</th>\n",
              "      <td>33914.000000</td>\n",
              "      <td>33914.000000</td>\n",
              "      <td>0.0</td>\n",
              "      <td>0.0</td>\n",
              "      <td>33914.000000</td>\n",
              "      <td>33914.000000</td>\n",
              "      <td>33914.000000</td>\n",
              "    </tr>\n",
              "    <tr>\n",
              "      <th>mean</th>\n",
              "      <td>126678.211152</td>\n",
              "      <td>1987.099310</td>\n",
              "      <td>NaN</td>\n",
              "      <td>NaN</td>\n",
              "      <td>7.521820</td>\n",
              "      <td>1.284013</td>\n",
              "      <td>11.466445</td>\n",
              "    </tr>\n",
              "    <tr>\n",
              "      <th>std</th>\n",
              "      <td>14055.084851</td>\n",
              "      <td>21.481678</td>\n",
              "      <td>NaN</td>\n",
              "      <td>NaN</td>\n",
              "      <td>4.593024</td>\n",
              "      <td>1.160446</td>\n",
              "      <td>6.923572</td>\n",
              "    </tr>\n",
              "    <tr>\n",
              "      <th>min</th>\n",
              "      <td>100022.000000</td>\n",
              "      <td>1939.000000</td>\n",
              "      <td>NaN</td>\n",
              "      <td>NaN</td>\n",
              "      <td>0.000000</td>\n",
              "      <td>0.000000</td>\n",
              "      <td>0.000000</td>\n",
              "    </tr>\n",
              "    <tr>\n",
              "      <th>25%</th>\n",
              "      <td>114557.500000</td>\n",
              "      <td>1972.000000</td>\n",
              "      <td>NaN</td>\n",
              "      <td>NaN</td>\n",
              "      <td>4.000000</td>\n",
              "      <td>0.000000</td>\n",
              "      <td>5.000000</td>\n",
              "    </tr>\n",
              "    <tr>\n",
              "      <th>50%</th>\n",
              "      <td>127522.000000</td>\n",
              "      <td>1993.000000</td>\n",
              "      <td>NaN</td>\n",
              "      <td>NaN</td>\n",
              "      <td>8.000000</td>\n",
              "      <td>1.000000</td>\n",
              "      <td>11.000000</td>\n",
              "    </tr>\n",
              "    <tr>\n",
              "      <th>75%</th>\n",
              "      <td>138832.750000</td>\n",
              "      <td>2005.000000</td>\n",
              "      <td>NaN</td>\n",
              "      <td>NaN</td>\n",
              "      <td>12.000000</td>\n",
              "      <td>2.000000</td>\n",
              "      <td>17.000000</td>\n",
              "    </tr>\n",
              "    <tr>\n",
              "      <th>max</th>\n",
              "      <td>150000.000000</td>\n",
              "      <td>2015.000000</td>\n",
              "      <td>NaN</td>\n",
              "      <td>NaN</td>\n",
              "      <td>15.000000</td>\n",
              "      <td>3.000000</td>\n",
              "      <td>23.000000</td>\n",
              "    </tr>\n",
              "  </tbody>\n",
              "</table>\n",
              "</div>\n",
              "      <button class=\"colab-df-convert\" onclick=\"convertToInteractive('df-f31aef6d-43b9-4bb7-8fd4-f42917c378ea')\"\n",
              "              title=\"Convert this dataframe to an interactive table.\"\n",
              "              style=\"display:none;\">\n",
              "        \n",
              "  <svg xmlns=\"http://www.w3.org/2000/svg\" height=\"24px\"viewBox=\"0 0 24 24\"\n",
              "       width=\"24px\">\n",
              "    <path d=\"M0 0h24v24H0V0z\" fill=\"none\"/>\n",
              "    <path d=\"M18.56 5.44l.94 2.06.94-2.06 2.06-.94-2.06-.94-.94-2.06-.94 2.06-2.06.94zm-11 1L8.5 8.5l.94-2.06 2.06-.94-2.06-.94L8.5 2.5l-.94 2.06-2.06.94zm10 10l.94 2.06.94-2.06 2.06-.94-2.06-.94-.94-2.06-.94 2.06-2.06.94z\"/><path d=\"M17.41 7.96l-1.37-1.37c-.4-.4-.92-.59-1.43-.59-.52 0-1.04.2-1.43.59L10.3 9.45l-7.72 7.72c-.78.78-.78 2.05 0 2.83L4 21.41c.39.39.9.59 1.41.59.51 0 1.02-.2 1.41-.59l7.78-7.78 2.81-2.81c.8-.78.8-2.07 0-2.86zM5.41 20L4 18.59l7.72-7.72 1.47 1.35L5.41 20z\"/>\n",
              "  </svg>\n",
              "      </button>\n",
              "      \n",
              "  <style>\n",
              "    .colab-df-container {\n",
              "      display:flex;\n",
              "      flex-wrap:wrap;\n",
              "      gap: 12px;\n",
              "    }\n",
              "\n",
              "    .colab-df-convert {\n",
              "      background-color: #E8F0FE;\n",
              "      border: none;\n",
              "      border-radius: 50%;\n",
              "      cursor: pointer;\n",
              "      display: none;\n",
              "      fill: #1967D2;\n",
              "      height: 32px;\n",
              "      padding: 0 0 0 0;\n",
              "      width: 32px;\n",
              "    }\n",
              "\n",
              "    .colab-df-convert:hover {\n",
              "      background-color: #E2EBFA;\n",
              "      box-shadow: 0px 1px 2px rgba(60, 64, 67, 0.3), 0px 1px 3px 1px rgba(60, 64, 67, 0.15);\n",
              "      fill: #174EA6;\n",
              "    }\n",
              "\n",
              "    [theme=dark] .colab-df-convert {\n",
              "      background-color: #3B4455;\n",
              "      fill: #D2E3FC;\n",
              "    }\n",
              "\n",
              "    [theme=dark] .colab-df-convert:hover {\n",
              "      background-color: #434B5C;\n",
              "      box-shadow: 0px 1px 3px 1px rgba(0, 0, 0, 0.15);\n",
              "      filter: drop-shadow(0px 1px 2px rgba(0, 0, 0, 0.3));\n",
              "      fill: #FFFFFF;\n",
              "    }\n",
              "  </style>\n",
              "\n",
              "      <script>\n",
              "        const buttonEl =\n",
              "          document.querySelector('#df-f31aef6d-43b9-4bb7-8fd4-f42917c378ea button.colab-df-convert');\n",
              "        buttonEl.style.display =\n",
              "          google.colab.kernel.accessAllowed ? 'block' : 'none';\n",
              "\n",
              "        async function convertToInteractive(key) {\n",
              "          const element = document.querySelector('#df-f31aef6d-43b9-4bb7-8fd4-f42917c378ea');\n",
              "          const dataTable =\n",
              "            await google.colab.kernel.invokeFunction('convertToInteractive',\n",
              "                                                     [key], {});\n",
              "          if (!dataTable) return;\n",
              "\n",
              "          const docLinkHtml = 'Like what you see? Visit the ' +\n",
              "            '<a target=\"_blank\" href=https://colab.research.google.com/notebooks/data_table.ipynb>data table notebook</a>'\n",
              "            + ' to learn more about interactive tables.';\n",
              "          element.innerHTML = '';\n",
              "          dataTable['output_type'] = 'display_data';\n",
              "          await google.colab.output.renderOutput(dataTable, element);\n",
              "          const docLink = document.createElement('div');\n",
              "          docLink.innerHTML = docLinkHtml;\n",
              "          element.appendChild(docLink);\n",
              "        }\n",
              "      </script>\n",
              "    </div>\n",
              "  </div>\n",
              "  "
            ]
          },
          "metadata": {},
          "execution_count": 29
        }
      ]
    },
    {
      "cell_type": "markdown",
      "source": [
        "Since the largest gift is the highest amount that were contributed by induvidual throughout his / her life. Here missing row doesn't have any lifetime giving hence considering value as 0"
      ],
      "metadata": {
        "id": "8XkDdxdfYNFr"
      }
    },
    {
      "cell_type": "code",
      "source": [
        "count_Garduation = df.groupby(\"Faculty of Graduation\")[\"Lifetime Giving\"].count()\n",
        "count_Garduation"
      ],
      "metadata": {
        "colab": {
          "base_uri": "https://localhost:8080/"
        },
        "id": "O0qfiXHhkUek",
        "outputId": "16ed9cfb-d6ce-4831-971f-3b93a7d08bc7"
      },
      "execution_count": null,
      "outputs": [
        {
          "output_type": "execute_result",
          "data": {
            "text/plain": [
              "Faculty of Graduation\n",
              "Agr&Env -- Dietetics                       378\n",
              "Agr&Env -- General                         848\n",
              "Agr&Env -- MSE                              22\n",
              "Arts -- General                          16601\n",
              "Arts -- Information (Library) Studies      476\n",
              "Arts -- MSE                                 37\n",
              "Arts -- Social Work                        863\n",
              "Continuing Education                      1213\n",
              "Dentistry                                  456\n",
              "Education -- General                      2503\n",
              "Engineer -- Architect                      613\n",
              "Engineer -- General                       3914\n",
              "Engineer -- Urban                          126\n",
              "Law                                       2267\n",
              "Management                                7586\n",
              "Medicine -- Com Sci                        101\n",
              "Medicine -- General                       2491\n",
              "Medicine -- Nursing                        496\n",
              "Medicine -- POT                            680\n",
              "Music                                      864\n",
              "Religious Studies                           78\n",
              "Science -- Computer                        187\n",
              "Science -- General                        7129\n",
              "Science -- MSE                              69\n",
              "UNKNOWN                                      2\n",
              "Name: Lifetime Giving, dtype: int64"
            ]
          },
          "metadata": {},
          "execution_count": 33
        }
      ]
    },
    {
      "cell_type": "code",
      "source": [
        "## Visualize by Year of graduation vs contribution\n",
        "Year_of_Graduation = df.groupby(\"Year of Graduation\")[\"Lifetime Giving\"].mean()\n",
        "Year_of_Graduation.plot(kind=\"line\", title = \"Year of Graduation vs Contribution\", x =\"Year of Graduation\", y = \"Lifetime Giving\")"
      ],
      "metadata": {
        "id": "TMZuEPuvZISc",
        "colab": {
          "base_uri": "https://localhost:8080/",
          "height": 312
        },
        "outputId": "9feeb5ec-a167-42ad-fb3b-106b8119271f"
      },
      "execution_count": null,
      "outputs": [
        {
          "output_type": "execute_result",
          "data": {
            "text/plain": [
              "<matplotlib.axes._subplots.AxesSubplot at 0x7f51c3231110>"
            ]
          },
          "metadata": {},
          "execution_count": 34
        },
        {
          "output_type": "display_data",
          "data": {
            "text/plain": [
              "<Figure size 432x288 with 1 Axes>"
            ],
            "image/png": "[encoded data removed]"
          },
          "metadata": {
            "needs_background": "light"
          }
        }
      ]
    },
    {
      "cell_type": "code",
      "source": [
        "## Visualize by Province vs contribution\n",
        "Province_of_Graduates = df.groupby(\"Province\")[\"Lifetime Giving\"].mean()\n",
        "Province_of_Graduates.plot(kind=\"bar\", title = \"Province of Graduates vs Contribution\", x =\"Provinces of Graduation\", y = \"Lifetime Giving\")"
      ],
      "metadata": {
        "colab": {
          "base_uri": "https://localhost:8080/",
          "height": 318
        },
        "id": "h2K7leIIg3va",
        "outputId": "17212110-238b-487c-8eaa-7058b93cc1d9"
      },
      "execution_count": null,
      "outputs": [
        {
          "output_type": "execute_result",
          "data": {
            "text/plain": [
              "<matplotlib.axes._subplots.AxesSubplot at 0x7f51c2f1d050>"
            ]
          },
          "metadata": {},
          "execution_count": 35
        },
        {
          "output_type": "display_data",
          "data": {
            "text/plain": [
              "<Figure size 432x288 with 1 Axes>"
            ],
            "image/png": "[encoded data removed]"
          },
          "metadata": {
            "needs_background": "light"
          }
        }
      ]
    },
    {
      "cell_type": "code",
      "source": [
        "## Visualize by Province vs contribution\n",
        "Faculty_of_Graduates = df.groupby(\"Faculty of Graduation\")[\"Lifetime Giving\"].mean()\n",
        "Faculty_of_Graduates.plot(kind=\"bar\", title = \"Faculty of Graduation vs Contribution\", x =\"Faculty of Graduation\", y = \"Lifetime Giving\")"
      ],
      "metadata": {
        "colab": {
          "base_uri": "https://localhost:8080/",
          "height": 480
        },
        "id": "yJMOWfMghg_J",
        "outputId": "7ec37f4a-bb85-442d-ce41-990099824ea7"
      },
      "execution_count": null,
      "outputs": [
        {
          "output_type": "execute_result",
          "data": {
            "text/plain": [
              "<matplotlib.axes._subplots.AxesSubplot at 0x7f51c29bb090>"
            ]
          },
          "metadata": {},
          "execution_count": 36
        },
        {
          "output_type": "display_data",
          "data": {
            "text/plain": [
              "<Figure size 432x288 with 1 Axes>"
            ],
            "image/png": "[encoded data removed]"
          },
          "metadata": {
            "needs_background": "light"
          }
        }
      ]
    },
    {
      "cell_type": "markdown",
      "source": [
        "The General Arts and Management Graduates contributed most to the donations"
      ],
      "metadata": {
        "id": "biR4okfUkDtT"
      }
    },
    {
      "cell_type": "code",
      "source": [
        "## Visualize by Number of clicks vs contribution\n",
        "Number_of_clicks = df.groupby(\"# of Clicks in the Past Month\")[\"Lifetime Giving\"].mean()\n",
        "Number_of_clicks.plot(kind=\"line\", title = \"Number of clicks vs Contribution\", x =\"Number of clicks\", y = \"Lifetime Giving\")"
      ],
      "metadata": {
        "colab": {
          "base_uri": "https://localhost:8080/",
          "height": 312
        },
        "id": "TjBmDiXpiWDL",
        "outputId": "9eea66b1-bb13-4872-c8ac-269697c481c7"
      },
      "execution_count": null,
      "outputs": [
        {
          "output_type": "execute_result",
          "data": {
            "text/plain": [
              "<matplotlib.axes._subplots.AxesSubplot at 0x7f51c289a9d0>"
            ]
          },
          "metadata": {},
          "execution_count": 37
        },
        {
          "output_type": "display_data",
          "data": {
            "text/plain": [
              "<Figure size 432x288 with 1 Axes>"
            ],
            "image/png": "[encoded data removed]"
          },
          "metadata": {
            "needs_background": "light"
          }
        }
      ]
    },
    {
      "cell_type": "code",
      "source": [
        "## Visualize by Number of times they attended events  vs contribution\n",
        "Number_of_event_attended = df.groupby(\"Events Attended in Lifetime\")[\"Lifetime Giving\"].mean()\n",
        "Number_of_event_attended.plot(kind=\"line\", title = \"Events Attended in Lifetime vs Contribution\", x =\"Events Attended in Lifetime\", y = \"Lifetime Giving\")"
      ],
      "metadata": {
        "colab": {
          "base_uri": "https://localhost:8080/",
          "height": 312
        },
        "id": "vOcw3mOni6OU",
        "outputId": "4729fbdf-ac47-4478-863e-1299f5429b65"
      },
      "execution_count": null,
      "outputs": [
        {
          "output_type": "execute_result",
          "data": {
            "text/plain": [
              "<matplotlib.axes._subplots.AxesSubplot at 0x7f51c2ee1b10>"
            ]
          },
          "metadata": {},
          "execution_count": 38
        },
        {
          "output_type": "display_data",
          "data": {
            "text/plain": [
              "<Figure size 432x288 with 1 Axes>"
            ],
            "image/png": "[encoded data removed]"
          },
          "metadata": {
            "needs_background": "light"
          }
        }
      ]
    }
  ]
}